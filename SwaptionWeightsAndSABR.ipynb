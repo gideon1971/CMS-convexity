{
  "cells": [
    {
      "cell_type": "markdown",
      "metadata": {
        "id": "view-in-github",
        "colab_type": "text"
      },
      "source": [
        "<a href=\"https://colab.research.google.com/github/gideon1971/CMS-convexity/blob/main/SwaptionWeightsAndSABR.ipynb\" target=\"_parent\"><img src=\"https://colab.research.google.com/assets/colab-badge.svg\" alt=\"Open In Colab\"/></a>"
      ]
    },
    {
      "cell_type": "markdown",
      "metadata": {
        "id": "CFqPzIXjcLNw"
      },
      "source": [
        "# Examine the sensitivity of CMS convexity calculations based on different initial parameter assumptions #\n",
        "\n",
        "<h4> acknowledgement to FinancePy for the displaced SABR volatility code https://github.com/domokane/FinancePy </h4>\n",
        "\n",
        "\n",
        "### Introduction ###\n",
        "\n",
        "Constant Maturity Swaps use the same framework as vanilla swaps, however, the tenor of the floating index is not in line with the tenor of the floating payments. \n",
        "\n",
        "For example, receiver EURIBOR swap will pay an amount at the end of a 6 month coupon per4iod (in arrears). The amount will be based on the EURIBOR 6 month fixing SET IN ADVANCE of a semi-annual floating payment coupon period. \\Similarly for OIS swqpw. the floating rate will use the daily compounded rat3s over trhe coupon period.\n",
        "\n",
        "The floating index used for CMS can be a swap rate of any tenor. \n",
        "Pay 20y swap rate\n",
        "\n",
        "10-year EUR CMS Swap Rate and the 20-year EUR\n",
        "CMS Swap Rate (displayed on the Reuters page \"ICESWAP2\").\n",
        "\n",
        "\n",
        "\n",
        "This would be the rate used to determinbe if a swaption exerfc ises withe a tenor   but the index that fixes is not a term rate or \n",
        "\n",
        "\n",
        "\n",
        "### Calculating the weights for for a portfolio of Cash Settled Swaptions to replicate a CMS rate\n",
        "\n",
        "### Setup\n",
        "-  Choose the number of swaptions for each Call & Put portfilio. e.g. use 30\n",
        "-  determine which strikes to use\n",
        "-  create functions to build the list of strikes & forwards\n",
        "-  crate a PVBP function\n",
        "\n"
      ]
    },
    {
      "cell_type": "code",
      "source": [],
      "metadata": {
        "id": "M5RB8aJKcZN1"
      },
      "execution_count": 21,
      "outputs": []
    },
    {
      "cell_type": "code",
      "execution_count": 1,
      "metadata": {
        "id": "Yef705dhcLN0",
        "outputId": "e3ad3c16-38c2-44b0-809c-bd855db37173",
        "colab": {
          "base_uri": "https://localhost:8080/",
          "height": 358
        }
      },
      "outputs": [
        {
          "output_type": "error",
          "ename": "ModuleNotFoundError",
          "evalue": "ignored",
          "traceback": [
            "\u001b[0;31m---------------------------------------------------------------------------\u001b[0m",
            "\u001b[0;31mModuleNotFoundError\u001b[0m                       Traceback (most recent call last)",
            "\u001b[0;32m<ipython-input-1-50934d4a43ee>\u001b[0m in \u001b[0;36m<module>\u001b[0;34m\u001b[0m\n\u001b[1;32m      4\u001b[0m \u001b[0;32mimport\u001b[0m \u001b[0mmatplotlib\u001b[0m\u001b[0;34m.\u001b[0m\u001b[0mpyplot\u001b[0m \u001b[0;32mas\u001b[0m \u001b[0mplt\u001b[0m\u001b[0;34m\u001b[0m\u001b[0;34m\u001b[0m\u001b[0m\n\u001b[1;32m      5\u001b[0m \u001b[0;34m\u001b[0m\u001b[0m\n\u001b[0;32m----> 6\u001b[0;31m \u001b[0;32mfrom\u001b[0m \u001b[0mfinancepy\u001b[0m\u001b[0;34m.\u001b[0m\u001b[0mutils\u001b[0m \u001b[0;32mimport\u001b[0m \u001b[0;34m*\u001b[0m\u001b[0;34m\u001b[0m\u001b[0;34m\u001b[0m\u001b[0m\n\u001b[0m\u001b[1;32m      7\u001b[0m \u001b[0;32mfrom\u001b[0m \u001b[0mfinancepy\u001b[0m\u001b[0;34m.\u001b[0m\u001b[0mmodels\u001b[0m\u001b[0;34m.\u001b[0m\u001b[0msabr_shifted\u001b[0m \u001b[0;32mimport\u001b[0m \u001b[0;34m*\u001b[0m\u001b[0;34m\u001b[0m\u001b[0;34m\u001b[0m\u001b[0m\n",
            "\u001b[0;31mModuleNotFoundError\u001b[0m: No module named 'financepy'",
            "",
            "\u001b[0;31m---------------------------------------------------------------------------\u001b[0;32m\nNOTE: If your import is failing due to a missing package, you can\nmanually install dependencies using either !pip or !apt.\n\nTo view examples of installing some common dependencies, click the\n\"Open Examples\" button below.\n\u001b[0;31m---------------------------------------------------------------------------\u001b[0m\n"
          ],
          "errorDetails": {
            "actions": [
              {
                "action": "open_url",
                "actionText": "Open Examples",
                "url": "/notebooks/snippets/importing_libraries.ipynb"
              }
            ]
          }
        }
      ],
      "source": [
        "import numpy as np\n",
        "import pandas as pd\n",
        "import scipy.stats as si\n",
        "import matplotlib.pyplot as plt\n",
        "\n",
        "from financepy.utils import *\n",
        "from financepy.models.sabr_shifted import *"
      ]
    },
    {
      "cell_type": "code",
      "execution_count": null,
      "metadata": {
        "id": "bpiN0ZL3cLN4"
      },
      "outputs": [],
      "source": [
        "def N(x):\n",
        "    Ndist = si.norm.cdf(x,0.0,1.0)\n",
        "    return Ndist"
      ]
    },
    {
      "cell_type": "code",
      "source": [
        "d=np.si"
      ],
      "metadata": {
        "id": "QAxB0Bz2Qv44"
      },
      "execution_count": null,
      "outputs": []
    },
    {
      "cell_type": "code",
      "execution_count": null,
      "metadata": {
        "id": "qfjc0hgIcLN5"
      },
      "outputs": [],
      "source": [
        "\n",
        "def B76(ff,kk,tt,vol,ss,cp):# ff= forward, kk = strike, ss=displacement\n",
        "    \n",
        "    # create UNDISCOUNTED displaced forwards & srtikes\n",
        "    ff=ff+ss\n",
        "    kk=kk+ss\n",
        "\n",
        "    d1=(np.log(ff/kk) + 0.5* tt * vol**2)/(vol * (tt**0.5))\n",
        "    d2=(np.log(ff/kk) - 0.5* tt * vol**2)/(vol * (tt**0.5))\n",
        "\n",
        "    c=ff*N(d1)-kk*N(d2)\n",
        "    p=kk*N(-d2)-ff*N(-d1)\n",
        "\n",
        "    if cp==1:\n",
        "        retval=c\n",
        "    else:\n",
        "        retval=p\n",
        "\n",
        "    return retval"
      ]
    },
    {
      "cell_type": "code",
      "execution_count": null,
      "metadata": {
        "id": "xScOdJmIcLN6"
      },
      "outputs": [],
      "source": [
        "def getStrikes(anchorStrike, displacement=0, CallPut = \"CALL\", nCashSettledSwaptions=30):\n",
        "\n",
        "    if CallPut == \"CALL\":\n",
        "        finalStrike = 10 * (anchorStrike + displacement)\n",
        "    else:\n",
        "        finalStrike = -displacement + 0.000001\n",
        "\n",
        "    increment = (finalStrike-anchorStrike)/(nCashSettledSwaptions-1)\n",
        "    cashSettledSwaptionStrikes = [anchorStrike + i * increment for i in range(nCashSettledSwaptions)]\n",
        "            \n",
        "    return cashSettledSwaptionStrikes"
      ]
    },
    {
      "cell_type": "code",
      "execution_count": null,
      "metadata": {
        "id": "n73bsDvPcLN6"
      },
      "outputs": [],
      "source": [
        "def getForwards(anchorStrike, displacement=0, CallPut = \"CALL\", nCashSettledSwaptions=30):\n",
        "    \n",
        "    K=getStrikes(anchorStrike, displacement, CallPut, nCashSettledSwaptions)\n",
        "    \n",
        "    increment=K[1]-K[0]\n",
        "\n",
        "    cashSettledSwaptionForwards =[K[i] + increment/2  for i in range(nCashSettledSwaptions)]\n",
        "            \n",
        "    return cashSettledSwaptionForwards"
      ]
    },
    {
      "cell_type": "code",
      "execution_count": null,
      "metadata": {
        "id": "eXBBg3ZucLN7"
      },
      "outputs": [],
      "source": [
        "def PVBP(swapParRate,swapTenorInMonths,swapFixedLegPaymentTenorInMonths):\n",
        "    #calculate the cash settled swaption annuity at exercise\n",
        "\n",
        "    factor=swapFixedLegPaymentTenorInMonths/12\n",
        "    nPaymemnts=int(swapTenorInMonths/swapFixedLegPaymentTenorInMonths)\n",
        "    df = 1/(1 + swapParRate*factor)\n",
        "            \n",
        "    s=0.0\n",
        "    p=1.0\n",
        "    for i in range(nPaymemnts):\n",
        "        p*=df\n",
        "        s+=p\n",
        "                \n",
        "    return s * factor"
      ]
    },
    {
      "cell_type": "code",
      "execution_count": null,
      "metadata": {
        "id": "vbJbcUyxcLN8"
      },
      "outputs": [],
      "source": [
        "def largest(a,b):\n",
        "    if a>b:\n",
        "        r=a\n",
        "    else:\n",
        "        r=b\n",
        "    return r"
      ]
    },
    {
      "cell_type": "code",
      "execution_count": null,
      "metadata": {
        "id": "NeHr14_BcLN8"
      },
      "outputs": [],
      "source": [
        "#The weights can be calculated recursively by calculating theterninal payoff\n",
        "\n",
        "def calculateWeights(callputN,anchorStrike,displacement,swapTenorinMonths,swapFixedLegMonths,nCashSettledSwaptions=30):\n",
        "    \n",
        "    \n",
        "    CSSweights=[] # create the empty list to hold the weights\n",
        "    swapTenor=swapTenorinMonths\n",
        "\n",
        "    if callputN==1:\n",
        "        CallPut=\"CALL\"\n",
        "    else:\n",
        "        CallPut=\"PUT\"\n",
        "    \n",
        "    \n",
        "    Strikes=getStrikes(anchorStrike, displacement, CallPut, nCashSettledSwaptions)\n",
        "    Forwards=getForwards(anchorStrike, displacement, CallPut, nCashSettledSwaptions)\n",
        "\n",
        "    # the target rate is the CMS rate at each forward rate\n",
        "    Targets=[Forwards[i]-anchorStrike for i in range(nCashSettledSwaptions)] \n",
        "\n",
        "\n",
        "    for i in range(nCashSettledSwaptions):\n",
        "        #find weight\n",
        "\n",
        "        currentFwd=Forwards[i]\n",
        "        currentPVBP=PVBP(currentFwd,swapTenor,swapFixedLegMonths)\n",
        "\n",
        "        nFixedStrikes=len(CSSweights) # loopp through the strikes that have already had their weight set\n",
        "        #print(nFixedStrikes)\n",
        "        prevPV=0\n",
        "\n",
        "        if nFixedStrikes>0: # use this once we have calculated the first swaption weight\n",
        "             for w in range(nFixedStrikes):\n",
        "                prevPV=prevPV + largest(callputN*(currentFwd-Strikes[w]),0) * currentPVBP * CSSweights[w]\n",
        "            \n",
        "        else:\n",
        "            prevPV=0\n",
        "           \n",
        "        requiredPV=Targets[i]-prevPV\n",
        "        currentWeight= requiredPV / (largest(callputN*(currentFwd-Strikes[i]),0)*currentPVBP)\n",
        "        CSSweights.append(currentWeight)\n",
        "\n",
        "    return CSSweights,Strikes"
      ]
    },
    {
      "cell_type": "code",
      "execution_count": null,
      "metadata": {
        "id": "L7VRAvPtcLN-"
      },
      "outputs": [],
      "source": []
    },
    {
      "cell_type": "code",
      "execution_count": null,
      "metadata": {
        "id": "Bk_MIFgqcLN-"
      },
      "outputs": [],
      "source": [
        "def getConvexityAdjustedSwapRate(F,D,T,swapLengthinMonths,nCashSettledSwaptions,fixedlegfreqmonths, SABRparams):\n",
        "    \n",
        "    #Calls\n",
        "    wCalls, kCalls = calculateWeights(1,F,D,swapLengthinMonths,fixedlegfreqmonths,nCashSettledSwaptions)\n",
        "    wPuts, kPuts = calculateWeights(-1,F,D,swapLengthinMonths,fixedlegfreqmonths,nCashSettledSwaptions)\n",
        "\n",
        "\n",
        "    #define shifted SABR parameters\n",
        "    alpha = SABRparams[0]; beta = SABRparams[1]; rho = SABRparams[2]; nu = SABRparams[3]; shift = D\n",
        "    model = SABRShifted(alpha, beta, rho, nu, D)\n",
        "\n",
        "    volsSABRCalls = model.black_vol(F, np.array(kCalls),T)\n",
        "    volsSABRPuts = model.black_vol(F, np.array(kPuts),T)\n",
        "\n",
        "    #dcefine the annuity of the swap\n",
        "    ann=PVBP(F,swapLengthinMonths,6)\n",
        "    \n",
        "    PVportfolioPuts=0\n",
        "    PVportfolioCalls=0\n",
        "\n",
        "    for s in range(nCashSettledSwaptions):\n",
        "        kk=kCalls[s]\n",
        "        w=wCalls[s]\n",
        "        v=volsSABRCalls[s]\n",
        "\n",
        "        PVportfolioCalls+=w*ann*B76(F,kk,T,v,D,1)\n",
        "\n",
        "    for s in range (nCashSettledSwaptions):\n",
        "        kk=kPuts[s]\n",
        "        w=wPuts[s]\n",
        "        v=volsSABRPuts[s]\n",
        "\n",
        "        PVportfolioPuts+=w*ann*B76(F,kk,T,v,D,-1)\n",
        "        \n",
        "        Zcb=np.exp(-F*T)\n",
        "        return Zcb*(PVportfolioCalls+PVportfolioPuts)"
      ]
    },
    {
      "cell_type": "code",
      "execution_count": null,
      "metadata": {
        "id": "prz3F7kWcLN_"
      },
      "outputs": [],
      "source": [
        "  "
      ]
    },
    {
      "cell_type": "code",
      "execution_count": null,
      "metadata": {
        "id": "orO5ytkgcLOA",
        "colab": {
          "base_uri": "https://localhost:8080/"
        },
        "outputId": "589106b3-1d1b-4ee7-bcdf-6410bcd27e4c"
      },
      "outputs": [
        {
          "output_type": "stream",
          "name": "stdout",
          "text": [
            "0.00026817291513331966\n",
            "0.03026817291513332\n"
          ]
        }
      ],
      "source": [
        "F=0.03\n",
        "D=0.0\n",
        "T=5.0\n",
        "swapLengthinMonths=240\n",
        "nCashSettledSwaptions=30\n",
        "\n",
        "pp=[0.102,1.0,0.5, 0.1]\n",
        "\n",
        "\n",
        "zzz=getConvexityAdjustedSwapRate(F,D,T, swapLengthinMonths, nCashSettledSwaptions, 6,pp)\n",
        "print(zzz)\n",
        "print(F+zzz)"
      ]
    },
    {
      "cell_type": "code",
      "execution_count": null,
      "metadata": {
        "id": "9tjyLqnlcLOA"
      },
      "outputs": [],
      "source": []
    },
    {
      "cell_type": "code",
      "execution_count": 17,
      "metadata": {
        "id": "h8vUsbP6cLOB"
      },
      "outputs": [],
      "source": [
        "import numpy as np\n",
        "\n",
        "def Chi(z , rho):\n",
        "  xi = np.log((np.sqrt(1 - 2 * rho * z + z ^ 2) + z - rho) / (1 - rho))\n",
        "  return xi\n",
        "\n",
        "\n",
        "\n",
        "eps = 0.00000001\n",
        "\n",
        "def SABR_BlackVol(fwd, k, tau, atm, beta, rho, nu):\n",
        "  \n",
        "  \n",
        "    # fwd = forward price\n",
        "    # k = strike price\n",
        "    # tau = expiry\n",
        "    # a0 = initial alpha\n",
        "    # bet = beta\n",
        "    # rho = rho\n",
        "    # nu = nu\n",
        "    a0=AlphaInitial(fwd, tau, atm, beta, rho, nu)\n",
        "    h = 1 - beta\n",
        "    p = ( fwd * k )  **  ( h / 2 )\n",
        "    q = np.log(fwd / k)\n",
        "    v = h ** 2 * a0 ** 2 /  ( 24 * p ** 2 )  + rho * beta * nu * a0 /  ( 4 * p )  +  ( 2 - 3 * rho ** 2 )  * nu ** 2 / 24\n",
        "    #note that ((fwd ^ h - k ^ h) / (h * q)) = p * (1 + (h * q) ^ 2 / 24 + (h * q) ^ 4 / 1920 + ...)\n",
        "    #note that p * q = ((fwd ^ h - k ^ h) / h) / (1 + (h * q) ^ 2 / 24 + (h * q) ^ 4 / 1920 + ...)\n",
        "    if np.abs(q) < eps:\n",
        "        eta = p\n",
        "        zeta_chi = 1\n",
        "    elif np.abs(h) < eps:\n",
        "        eta = 1\n",
        "        zeta = nu / a0 * q\n",
        "        zeta_chi = zeta / Chi(zeta, rho)\n",
        "    else:\n",
        "        eta = ( fwd ** h - k ** h )  /  ( h * q )\n",
        "        zeta = nu / a0 * p * q\n",
        "        zeta_chi = zeta / Chi(zeta, rho)\n",
        "\n",
        "    fn_return_value = zeta_chi *  ( a0 *  ( 1 + v * tau ) )  / eta\n",
        "    return fn_return_value\n",
        "\n",
        "def Chi(z, rho):\n",
        "    fn_return_value = np.log(( np.sqrt(1 - 2 * rho * z + z ** 2) + z - rho )  /  ( 1 - rho ))\n",
        "    return fn_return_value\n",
        "\n",
        "def AlphaInitial(fwd, tau, atm, beta, rho, nu):\n",
        " \n",
        "    # fwd = forward\n",
        "    # tau = expiry\n",
        "    # atm = at-the-money volatility\n",
        "    # bet = beta\n",
        "    # rho = rho\n",
        "    # nu = nu\n",
        "    h = 1 - beta\n",
        "    a = h ** 2 * tau / 24 / fwd **  ( 2 * h )\n",
        "    b = rho * beta * nu * tau / 4 / fwd ** h\n",
        "    c = 1 +  ( 2 - 3 * rho ** 2 )  * nu ** 2 * tau / 24\n",
        "    d = - atm * fwd ** h\n",
        "    # a*x^3 + b*x^2 + c*x + d = 0\n",
        "    # take the smallest positive root.\n",
        "    # When there are three real roots, they are of the order of -1000, 1 and +1000.\n",
        "    # So we take the root of order 1.\n",
        "    param_norm = norm(a, b, c, d)\n",
        "    if np.abs(norm(0, 0, c, d) / param_norm - 1) < eps:\n",
        "        fn_return_value = - d / c\n",
        "    elif np.abs(norm(0, b, c, d) / param_norm - 1) < eps:\n",
        "        fn_return_value = QuadraticSolver(b, c, d)\n",
        "    else:\n",
        "        fn_return_value = CubicSolver(a, b, c, d)\n",
        "    return fn_return_value\n",
        "\n",
        "def norm(a, b, c, d):\n",
        "    fn_return_value = np.sqrt(a ** 2 + b ** 2 + c ** 2 + d ** 2)\n",
        "    return fn_return_value\n",
        "\n",
        "\n",
        "def QuadraticSolver(a, b, c):\n",
        "\n",
        "    # Solves a quadratic equation of the form:\n",
        "    # a*x^2 + b*x + c = 0 for real roots.\n",
        "    q = - 0.5 *  ( b + np.sign(b) * np.sqrt(b ** 2 - 4 * a * c) )\n",
        "    x1 = q / a\n",
        "    x2 = c / q\n",
        "    #take the smallest positive root.\n",
        "    if x1 * x2 < 0:\n",
        "        fn_return_value = np.max([x1, x2])\n",
        "    elif x1 > 0:\n",
        "        fn_return_value = np.min([x1, x2])\n",
        "    else:\n",
        "        print(\"invalid solution for initial alpha\")\n",
        "    return fn_return_value\n",
        "\n",
        "def CubicSolver(a, b, c, d):\n",
        "    deg = 2.09439510239319\n",
        "    tol1 = 0.00001\n",
        "    tol2 = 1E-20\n",
        "    z=[]\n",
        "    # Solves a cubic equation of the form:\n",
        "    # x^3 + b*x^2 + c*x + d = 0 for real roots.\n",
        "    # Inputs:\n",
        "    # b,c,d: coefficients of polynomial.\n",
        "    # Outputs:\n",
        "    # ROOT 3-vector containing only real roots.\n",
        "    # NROOTS The number of roots found. The real roots\n",
        "    # found will be in the first elements of ROOT.\n",
        "    # Method: Closed form employing trigonometric and Cardan\n",
        "    # methods as appropriate.\n",
        "    # Note: to transform equation:\n",
        "    # A*x^3 + B*x^2 + C*x + D = 0\n",
        "    # into the form above, simply divide the coefficients thru by A\n",
        "    # i.e. b = B/A, c = C/A and d = D/A\n",
        "    b = b / a\n",
        "    c = c / a\n",
        "    d = d / a\n",
        "    #transform the equation into the form z^3 + p*z + q = 0\n",
        "    p = c - b ** 2 / 3\n",
        "    q = b *  ( 2 * b ** 2 - 9 * c )  / 27 + d\n",
        "    \n",
        "    if np.sqrt(p ** 2 + q ** 2) < tol2:\n",
        "        nr = 3\n",
        "        z.append(0.0 for i in range(nr))\n",
        "    else:\n",
        "        g = ( p / 3 )  ** 3 +  ( q / 2 )  ** 2\n",
        "        if g > 0:\n",
        "            t1 = - q / 2\n",
        "            t2 = np.sqrt(g)\n",
        "            ratio = 1\n",
        "            if q != 0:\n",
        "                ratio = t2 / t1\n",
        "            if np.abs(ratio) < tol1:\n",
        "                nr = 3\n",
        "                z.append(2 * CubicRoot(t1))\n",
        "                z.append( CubicRoot(- t1))\n",
        "                z.append(0.0)\n",
        "            else:\n",
        "                nr = 1\n",
        "                z.append( CubicRoot(t1 + t2) + CubicRoot(t1 - t2))\n",
        "        else:\n",
        "            nr = 3\n",
        "            ad3 = p / 3\n",
        "            e0 = 2 * np.sqrt(- ad3)\n",
        "            phi = - q /  ( 2 * np.sqrt(- ad3 ** 3) )\n",
        "            phi3 = np.arccos(phi) / 3\n",
        "            z.append(e0 * np.cos(phi3))\n",
        "            z.append(e0 * np.cos(phi3 + deg))\n",
        "            z.append(e0 * np.cos(phi3 - deg))\n",
        "    root=[]\n",
        "    for i in range(nr):\n",
        "        root.append(z[i] - b / 3)\n",
        "    fn_return_value = root[0]\n",
        "    return fn_return_value\n",
        "\n",
        "def CubicRoot(x):\n",
        "    # Signed cube root function. Used by CubicSolver procedure.\n",
        "    fn_return_value = np.abs(x) **  ( 1 / 3 )  * np.sign(x)\n",
        "    return fn_return_value\n",
        "\n",
        "# VB2PY (UntranslatedCode) Option Explicit\n"
      ]
    },
    {
      "cell_type": "code",
      "source": [
        "v=SABR_BlackVol(100,100,4.0,0.3,1.0,0.2,0.4)\n",
        "print(v)\n"
      ],
      "metadata": {
        "colab": {
          "base_uri": "https://localhost:8080/"
        },
        "id": "Tne0f6fHUIoI",
        "outputId": "323b317b-d2d5-4cc8-b3d4-757dc1eeb726"
      },
      "execution_count": 21,
      "outputs": [
        {
          "output_type": "stream",
          "name": "stdout",
          "text": [
            "0.3\n"
          ]
        }
      ]
    },
    {
      "cell_type": "code",
      "source": [],
      "metadata": {
        "id": "Qqf_dZrubm9P"
      },
      "execution_count": null,
      "outputs": []
    }
  ],
  "metadata": {
    "kernelspec": {
      "display_name": "Python 3 (ipykernel)",
      "language": "python",
      "name": "python3"
    },
    "language_info": {
      "codemirror_mode": {
        "name": "ipython",
        "version": 3
      },
      "file_extension": ".py",
      "mimetype": "text/x-python",
      "name": "python",
      "nbconvert_exporter": "python",
      "pygments_lexer": "ipython3",
      "version": "3.9.12"
    },
    "vscode": {
      "interpreter": {
        "hash": "3ad933181bd8a04b432d3370b9dc3b0662ad032c4dfaa4e4f1596c548f763858"
      }
    },
    "colab": {
      "provenance": [],
      "include_colab_link": true
    }
  },
  "nbformat": 4,
  "nbformat_minor": 0
}