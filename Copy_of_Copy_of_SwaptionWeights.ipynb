{
  "cells": [
    {
      "cell_type": "markdown",
      "metadata": {
        "id": "view-in-github",
        "colab_type": "text"
      },
      "source": [
        "<a href=\"https://colab.research.google.com/github/gideon1971/CMS-convexity/blob/Convexity/Copy_of_Copy_of_SwaptionWeights.ipynb\" target=\"_parent\"><img src=\"https://colab.research.google.com/assets/colab-badge.svg\" alt=\"Open In Colab\"/></a>"
      ]
    },
    {
      "cell_type": "markdown",
      "metadata": {
        "id": "CFqPzIXjcLNw"
      },
      "source": [
        "# Examine the sensitivity of CMS convexity calculations based on different initial parameter assumptions #\n",
        "\n",
        "<h4> acknowledgement to FinancePy for the displaced SABR volatility code https://github.com/domokane/FinancePy </h4>\n",
        "\n",
        "\n",
        "### Introduction ###\n",
        "\n",
        "Constant Maturity Swaps use the same framework as vanilla swaps, however, the tenor of the floating index is not in line with the tenor of the floating payments. \n",
        "\n",
        "For example, receiver EURIBOR swap will pay an amount at the end of a 6 month coupon per4iod (in arrears). The amount will be based on the EURIBOR 6 month fixing SET IN ADVANCE of a semi-annual floating payment coupon period. \\Similarly for OIS swqpw. the floating rate will use the daily compounded rat3s over trhe coupon period.\n",
        "\n",
        "The floating index used for CMS can be a swap rate of any tenor. \n",
        "Pay 20y swap rate\n",
        "\n",
        "10-year EUR CMS Swap Rate and the 20-year EUR\n",
        "CMS Swap Rate (displayed on the Reuters page \"ICESWAP2\").\n",
        "\n",
        "\n",
        "\n",
        "This would be the rate used to determinbe if a swaption exerfc ises withe a tenor   but the index that fixes is not a term rate or \n",
        "\n",
        "\n",
        "\n",
        "### Calculating the weights for for a portfolio of Cash Settled Swaptions to replicate a CMS rate\n",
        "\n",
        "### Setup\n",
        "-  Choose the number of swaptions for each Call & Put portfilio. e.g. use 30\n",
        "-  determine which strikes to use\n",
        "-  create functions to build the list of strikes & forwards\n",
        "-  crate a PVBP function\n",
        "\n"
      ]
    },
    {
      "cell_type": "code",
      "source": [
        "!pip install financepy"
      ],
      "metadata": {
        "colab": {
          "base_uri": "https://localhost:8080/"
        },
        "id": "M5RB8aJKcZN1",
        "outputId": "5e79dfe8-0a7d-453e-b772-90f9d165b4a4"
      },
      "execution_count": 7,
      "outputs": [
        {
          "output_type": "stream",
          "name": "stdout",
          "text": [
            "Looking in indexes: https://pypi.org/simple, https://us-python.pkg.dev/colab-wheels/public/simple/\n",
            "Requirement already satisfied: financepy in /usr/local/lib/python3.8/dist-packages (0.260)\n",
            "Requirement already satisfied: numba in /usr/local/lib/python3.8/dist-packages (from financepy) (0.56.4)\n",
            "Requirement already satisfied: numpy in /usr/local/lib/python3.8/dist-packages (from financepy) (1.21.6)\n",
            "Requirement already satisfied: scipy in /usr/local/lib/python3.8/dist-packages (from financepy) (1.7.3)\n",
            "Requirement already satisfied: llvmlite<0.40,>=0.39.0dev0 in /usr/local/lib/python3.8/dist-packages (from numba->financepy) (0.39.1)\n",
            "Requirement already satisfied: setuptools in /usr/local/lib/python3.8/dist-packages (from numba->financepy) (57.4.0)\n",
            "Requirement already satisfied: importlib-metadata in /usr/local/lib/python3.8/dist-packages (from numba->financepy) (5.2.0)\n",
            "Requirement already satisfied: zipp>=0.5 in /usr/local/lib/python3.8/dist-packages (from importlib-metadata->numba->financepy) (3.11.0)\n"
          ]
        }
      ]
    },
    {
      "cell_type": "code",
      "execution_count": 8,
      "metadata": {
        "id": "Yef705dhcLN0"
      },
      "outputs": [],
      "source": [
        "import numpy as np\n",
        "import pandas as pd\n",
        "import scipy.stats as si\n",
        "import matplotlib.pyplot as plt\n",
        "\n",
        "from financepy.utils import *\n",
        "from financepy.models.sabr_shifted import *"
      ]
    },
    {
      "cell_type": "code",
      "execution_count": 9,
      "metadata": {
        "id": "bpiN0ZL3cLN4"
      },
      "outputs": [],
      "source": [
        "def N(x):\n",
        "    Ndist = si.norm.cdf(x,0.0,1.0)\n",
        "    return Ndist"
      ]
    },
    {
      "cell_type": "code",
      "source": [],
      "metadata": {
        "id": "QAxB0Bz2Qv44"
      },
      "execution_count": 9,
      "outputs": []
    },
    {
      "cell_type": "code",
      "execution_count": 43,
      "metadata": {
        "id": "qfjc0hgIcLN5"
      },
      "outputs": [],
      "source": [
        "\n",
        "def B76(ff,kk,tt,vol,ss,cp):# ff= forward, kk = strike, ss=displacement\n",
        "    \n",
        "    # create UNDISCOUNTED displaced forwards & srtikes\n",
        "    ff=ff+ss\n",
        "    kk=kk+ss\n",
        "\n",
        "    d1=(np.log(ff/kk) + 0.5* tt * vol**2)/(vol * np.sqrt(tt))\n",
        "    d2=(np.log(ff/kk) - 0.5* tt * vol**2)/(vol * np.sqrt(tt))\n",
        "\n",
        "    c=ff*N(d1)-kk*N(d2)\n",
        "    p=kk*N(-d2)-ff*N(-d1)\n",
        "\n",
        "    if cp==1:\n",
        "        retval=c\n",
        "    else:\n",
        "        retval=p\n",
        "\n",
        "    return retval"
      ]
    },
    {
      "cell_type": "code",
      "execution_count": 44,
      "metadata": {
        "id": "xScOdJmIcLN6"
      },
      "outputs": [],
      "source": [
        "def getStrikes(anchorStrike, displacement=0, CallPut = \"CALL\", nCashSettledSwaptions=30):\n",
        "\n",
        "    if CallPut == \"CALL\":\n",
        "        finalStrike = 10 * (anchorStrike + displacement)\n",
        "    else:\n",
        "        finalStrike = -displacement + 0.000001\n",
        "\n",
        "    increment = (finalStrike-anchorStrike)/(nCashSettledSwaptions-1)\n",
        "    cashSettledSwaptionStrikes = [anchorStrike + i * increment for i in range(nCashSettledSwaptions)]\n",
        "            \n",
        "    return cashSettledSwaptionStrikes"
      ]
    },
    {
      "cell_type": "code",
      "execution_count": 45,
      "metadata": {
        "id": "n73bsDvPcLN6"
      },
      "outputs": [],
      "source": [
        "def getForwards(anchorStrike, displacement=0, CallPut = \"CALL\", nCashSettledSwaptions=30):\n",
        "    \n",
        "    K=getStrikes(anchorStrike, displacement, CallPut, nCashSettledSwaptions)\n",
        "    \n",
        "    increment=K[1]-K[0]\n",
        "\n",
        "    cashSettledSwaptionForwards =[K[i] + increment/2  for i in range(nCashSettledSwaptions)]\n",
        "            \n",
        "    return cashSettledSwaptionForwards"
      ]
    },
    {
      "cell_type": "code",
      "execution_count": 46,
      "metadata": {
        "id": "eXBBg3ZucLN7"
      },
      "outputs": [],
      "source": [
        "def PVBP(swapParRate,swapTenorInMonths,swapFixedLegPaymentTenorInMonths):\n",
        "    #calculate the cash settled swaption annuity at exercise\n",
        "\n",
        "    factor=swapFixedLegPaymentTenorInMonths/12\n",
        "    nPaymemnts=int(swapTenorInMonths/swapFixedLegPaymentTenorInMonths)\n",
        "    df = 1/(1 + swapParRate*factor)\n",
        "            \n",
        "    s=0.0\n",
        "    p=1.0\n",
        "    for i in range(nPaymemnts):\n",
        "        p*=df\n",
        "        s+=p\n",
        "                \n",
        "    return s * factor"
      ]
    },
    {
      "cell_type": "code",
      "execution_count": 47,
      "metadata": {
        "id": "vbJbcUyxcLN8"
      },
      "outputs": [],
      "source": [
        "def largest(a,b):\n",
        "    if a>b:\n",
        "        r=a\n",
        "    else:\n",
        "        r=b\n",
        "    return r"
      ]
    },
    {
      "cell_type": "code",
      "execution_count": 48,
      "metadata": {
        "id": "NeHr14_BcLN8"
      },
      "outputs": [],
      "source": [
        "#The weights can be calculated recursively by calculating theterninal payoff\n",
        "\n",
        "def calculateWeights(callputN,anchorStrike,displacement,swapTenorinMonths,swapFixedLegMonths,nCashSettledSwaptions=30):\n",
        "    \n",
        "    \n",
        "    CSSweights=[] # create the empty list to hold the weights\n",
        "    swapTenor=swapTenorinMonths\n",
        "\n",
        "    if callputN==1:\n",
        "        CallPut=\"CALL\"\n",
        "    else:\n",
        "        CallPut=\"PUT\"\n",
        "    \n",
        "    \n",
        "    Strikes=getStrikes(anchorStrike, displacement, CallPut, nCashSettledSwaptions)\n",
        "    Forwards=getForwards(anchorStrike, displacement, CallPut, nCashSettledSwaptions)\n",
        "\n",
        "    # the target rate is the CMS rate at each forward rate\n",
        "    Targets=[Forwards[i]-anchorStrike for i in range(nCashSettledSwaptions)] \n",
        "\n",
        "\n",
        "    for i in range(nCashSettledSwaptions):\n",
        "        #find weight\n",
        "\n",
        "        currentFwd=Forwards[i]\n",
        "        currentPVBP=PVBP(currentFwd,swapTenor,swapFixedLegMonths)\n",
        "\n",
        "        nFixedStrikes=len(CSSweights) # loopp through the strikes that have already had their weight set\n",
        "        #print(nFixedStrikes)\n",
        "        prevPV=0\n",
        "\n",
        "        if nFixedStrikes>0: # use this once we have calculated the first swaption weight\n",
        "             for w in range(nFixedStrikes):\n",
        "                prevPV=prevPV + largest(callputN*(currentFwd-Strikes[w]),0) * currentPVBP * CSSweights[w]\n",
        "            \n",
        "        else:\n",
        "            prevPV=0\n",
        "           \n",
        "        requiredPV=Targets[i]-prevPV\n",
        "        currentWeight= requiredPV / (largest(callputN*(currentFwd-Strikes[i]),0)*currentPVBP)\n",
        "        CSSweights.append(currentWeight)\n",
        "\n",
        "    return CSSweights,Strikes"
      ]
    },
    {
      "cell_type": "code",
      "execution_count": 48,
      "metadata": {
        "id": "L7VRAvPtcLN-"
      },
      "outputs": [],
      "source": []
    },
    {
      "cell_type": "code",
      "execution_count": 70,
      "metadata": {
        "id": "Bk_MIFgqcLN-"
      },
      "outputs": [],
      "source": [
        "def getConvexityAdjustedSwapRate(F,D,T,swapLengthinMonths,nCashSettledSwaptions,fixedlegfreqmonths, SABRparams):\n",
        "    \n",
        "    #Calls\n",
        "    wCalls, kCalls = calculateWeights(1,F,D,swapLengthinMonths,fixedlegfreqmonths,nCashSettledSwaptions)\n",
        "    wPuts, kPuts = calculateWeights(-1,F,D,swapLengthinMonths,fixedlegfreqmonths,nCashSettledSwaptions)\n",
        "\n",
        "\n",
        "    #define shifted SABR parameters\n",
        "    alpha = SABRparams[0]; beta = SABRparams[1]; rho = SABRparams[2]; nu = SABRparams[3]; shift = D\n",
        "    #model = SABRShifted(alpha, beta, rho, nu, D)\n",
        "\n",
        "    #volsSABRCalls = model.black_vol(F, np.array(kCalls),T)\n",
        "    #volsSABRPuts = model.black_vol(F, np.array(kPuts),T)\n",
        "\n",
        "    #use another SABR\n",
        "\n",
        "    volsSABRCalls=[SABR_BlackVol(F+D,k+D,T,alpha, beta, rho, nu) for k in kCalls]\n",
        "    volsSABRPuts=[SABR_BlackVol(F+D,k+D,T,alpha, beta, rho, nu) for k in kPuts]\n",
        "\n",
        "\n",
        "    #print(volsSABRCalls)\n",
        "    #dcefine the annuity of the swap\n",
        "    ann=PVBP(F,swapLengthinMonths,fixedlegfreqmonths)\n",
        "    \n",
        "    PVportfolioPuts=0\n",
        "    PVportfolioCalls=0\n",
        "\n",
        "    for s in range(nCashSettledSwaptions):\n",
        "        kk=kCalls[s]\n",
        "        w=wCalls[s]\n",
        "        v=volsSABRCalls[s]\n",
        "\n",
        "        PVportfolioCalls+=w*ann*B76(F,kk,T,v,D,1)\n",
        "\n",
        "    for s in range(nCashSettledSwaptions):\n",
        "        kk=kPuts[s]\n",
        "        w=wPuts[s]\n",
        "        v=volsSABRPuts[s]\n",
        "\n",
        "        PVportfolioPuts+=w*ann*B76(F,kk,T,v,D,-1)\n",
        "        \n",
        "        Zcb=np.exp(-F*T)\n",
        "        return 1*(PVportfolioCalls+PVportfolioPuts)"
      ]
    },
    {
      "cell_type": "code",
      "execution_count": 49,
      "metadata": {
        "id": "prz3F7kWcLN_"
      },
      "outputs": [],
      "source": [
        "  "
      ]
    },
    {
      "cell_type": "code",
      "execution_count": 71,
      "metadata": {
        "id": "orO5ytkgcLOA",
        "colab": {
          "base_uri": "https://localhost:8080/"
        },
        "outputId": "77e90be6-5091-4af4-b699-13875c674a08"
      },
      "outputs": [
        {
          "output_type": "stream",
          "name": "stdout",
          "text": [
            "0.0056565573088037495\n",
            "0.03565655730880375\n"
          ]
        }
      ],
      "source": [
        "F=0.03\n",
        "D=0.00\n",
        "T=5.0\n",
        "swapLengthinMonths=240\n",
        "nCashSettledSwaptions=30\n",
        "\n",
        "pp=[0.3,1.0,0.5, 0.1]\n",
        "\n",
        "\n",
        "zzz=getConvexityAdjustedSwapRate(F,D,T, swapLengthinMonths, nCashSettledSwaptions, 6,pp)\n",
        "print(zzz)\n",
        "print(F+zzz)"
      ]
    },
    {
      "cell_type": "code",
      "execution_count": 17,
      "metadata": {
        "id": "9tjyLqnlcLOA"
      },
      "outputs": [],
      "source": []
    },
    {
      "cell_type": "code",
      "execution_count": 28,
      "metadata": {
        "id": "h8vUsbP6cLOB"
      },
      "outputs": [],
      "source": [
        "import numpy as np\n",
        "\n",
        "def Chi(z , rho):\n",
        "  xi = np.log((np.sqrt(1 - 2 * rho * z + z ^ 2) + z - rho) / (1 - rho))\n",
        "  return xi\n",
        "\n",
        "eps = 0.00000001\n",
        "\n",
        "def SABR_BlackVol(fwd, k, tau, atm, beta, rho, nu):\n",
        "    \n",
        "    # fwd = forward price\n",
        "    # k = strike price\n",
        "    # tau = expiry\n",
        "    # a0 = initial alpha\n",
        "    # bet = beta\n",
        "    # rho = rho\n",
        "    # nu = nu\n",
        "    a0=AlphaInitial(fwd, tau, atm, beta, rho, nu)\n",
        "    h = 1 - beta\n",
        "    p = ( fwd * k )  **  ( h / 2 )\n",
        "    q = np.log(fwd / k)\n",
        "    v = h ** 2 * a0 ** 2 /  ( 24 * p ** 2 )  + rho * beta * nu * a0 /  ( 4 * p )  +  ( 2 - 3 * rho ** 2 )  * nu ** 2 / 24\n",
        "    #note that ((fwd ^ h - k ^ h) / (h * q)) = p * (1 + (h * q) ^ 2 / 24 + (h * q) ^ 4 / 1920 + ...)\n",
        "    #note that p * q = ((fwd ^ h - k ^ h) / h) / (1 + (h * q) ^ 2 / 24 + (h * q) ^ 4 / 1920 + ...)\n",
        "    if np.abs(q) < eps:\n",
        "        eta = p\n",
        "        zeta_chi = 1\n",
        "    elif np.abs(h) < eps:\n",
        "        eta = 1\n",
        "        zeta = nu / a0 * q\n",
        "        zeta_chi = zeta / Chi(zeta, rho)\n",
        "    else:\n",
        "        eta = ( fwd ** h - k ** h )  /  ( h * q )\n",
        "        zeta = nu / a0 * p * q\n",
        "        zeta_chi = zeta / Chi(zeta, rho)\n",
        "\n",
        "    fn_return_value = zeta_chi *  ( a0 *  ( 1 + v * tau ) )  / eta\n",
        "    return fn_return_value\n",
        "\n",
        "def Chi(z, rho):\n",
        "    fn_return_value = np.log(( np.sqrt(1 - 2 * rho * z + z ** 2) + z - rho )  /  ( 1 - rho ))\n",
        "    return fn_return_value\n",
        "\n",
        "def AlphaInitial(fwd, tau, atm, beta, rho, nu):\n",
        " \n",
        "    # fwd = forward\n",
        "    # tau = expiry\n",
        "    # atm = at-the-money volatility\n",
        "    # bet = beta\n",
        "    # rho = rho\n",
        "    # nu = nu\n",
        "    h = 1 - beta\n",
        "    a = h ** 2 * tau / 24 / fwd **  ( 2 * h )\n",
        "    b = rho * beta * nu * tau / 4 / fwd ** h\n",
        "    c = 1 +  ( 2 - 3 * rho ** 2 )  * nu ** 2 * tau / 24\n",
        "    d = - atm * fwd ** h\n",
        "    # a*x^3 + b*x^2 + c*x + d = 0\n",
        "    # take the smallest positive root.\n",
        "    # When there are three real roots, they are of the order of -1000, 1 and +1000.\n",
        "    # So we take the root of order 1.\n",
        "    param_norm = norm(a, b, c, d)\n",
        "    if np.abs(norm(0, 0, c, d) / param_norm - 1) < eps:\n",
        "        fn_return_value = - d / c\n",
        "    elif np.abs(norm(0, b, c, d) / param_norm - 1) < eps:\n",
        "        fn_return_value = QuadraticSolver(b, c, d)\n",
        "    else:\n",
        "        fn_return_value = CubicSolver(a, b, c, d)\n",
        "    return fn_return_value\n",
        "\n",
        "def norm(a, b, c, d):\n",
        "    fn_return_value = np.sqrt(a ** 2 + b ** 2 + c ** 2 + d ** 2)\n",
        "    return fn_return_value\n",
        "\n",
        "\n",
        "def QuadraticSolver(a, b, c):\n",
        "\n",
        "    # Solves a quadratic equation of the form:\n",
        "    # a*x^2 + b*x + c = 0 for real roots.\n",
        "    q = - 0.5 *  ( b + np.sign(b) * np.sqrt(b ** 2 - 4 * a * c) )\n",
        "    x1 = q / a\n",
        "    x2 = c / q\n",
        "    #take the smallest positive root.\n",
        "    if x1 * x2 < 0:\n",
        "        fn_return_value = np.max([x1, x2])\n",
        "    elif x1 > 0:\n",
        "        fn_return_value = np.min([x1, x2])\n",
        "    else:\n",
        "        print(\"invalid solution for initial alpha\")\n",
        "    return fn_return_value\n",
        "\n",
        "def CubicSolver(a, b, c, d):\n",
        "    deg = 2.09439510239319\n",
        "    tol1 = 0.00001\n",
        "    tol2 = 1E-20\n",
        "    z=[]\n",
        "    # Solves a cubic equation of the form:\n",
        "    # x^3 + b*x^2 + c*x + d = 0 for real roots.\n",
        "    # Inputs:\n",
        "    # b,c,d: coefficients of polynomial.\n",
        "    # Outputs:\n",
        "    # ROOT 3-vector containing only real roots.\n",
        "    # NROOTS The number of roots found. The real roots\n",
        "    # found will be in the first elements of ROOT.\n",
        "    # Method: Closed form employing trigonometric and Cardan\n",
        "    # methods as appropriate.\n",
        "    # Note: to transform equation:\n",
        "    # A*x^3 + B*x^2 + C*x + D = 0\n",
        "    # into the form above, simply divide the coefficients thru by A\n",
        "    # i.e. b = B/A, c = C/A and d = D/A\n",
        "    b = b / a\n",
        "    c = c / a\n",
        "    d = d / a\n",
        "    #transform the equation into the form z^3 + p*z + q = 0\n",
        "    p = c - b ** 2 / 3\n",
        "    q = b *  ( 2 * b ** 2 - 9 * c )  / 27 + d\n",
        "    \n",
        "    if np.sqrt(p ** 2 + q ** 2) < tol2:\n",
        "        nr = 3\n",
        "        z.append(0.0 for i in range(nr))\n",
        "    else:\n",
        "        g = ( p / 3 )  ** 3 +  ( q / 2 )  ** 2\n",
        "        if g > 0:\n",
        "            t1 = - q / 2\n",
        "            t2 = np.sqrt(g)\n",
        "            ratio = 1\n",
        "            if q != 0:\n",
        "                ratio = t2 / t1\n",
        "            if np.abs(ratio) < tol1:\n",
        "                nr = 3\n",
        "                z.append(2 * CubicRoot(t1))\n",
        "                z.append( CubicRoot(- t1))\n",
        "                z.append(0.0)\n",
        "            else:\n",
        "                nr = 1\n",
        "                z.append( CubicRoot(t1 + t2) + CubicRoot(t1 - t2))\n",
        "        else:\n",
        "            nr = 3\n",
        "            ad3 = p / 3\n",
        "            e0 = 2 * np.sqrt(- ad3)\n",
        "            phi = - q /  ( 2 * np.sqrt(- ad3 ** 3) )\n",
        "            phi3 = np.arccos(phi) / 3\n",
        "            z.append(e0 * np.cos(phi3))\n",
        "            z.append(e0 * np.cos(phi3 + deg))\n",
        "            z.append(e0 * np.cos(phi3 - deg))\n",
        "    root=[]\n",
        "    for i in range(nr):\n",
        "        root.append(z[i] - b / 3)\n",
        "    fn_return_value = root[0]\n",
        "    return fn_return_value\n",
        "\n",
        "def CubicRoot(x):\n",
        "    # Signed cube root function. Used by CubicSolver procedure.\n",
        "    fn_return_value = np.abs(x) **  ( 1 / 3 )  * np.sign(x)\n",
        "    return fn_return_value\n",
        "\n",
        "# VB2PY (UntranslatedCode) Option Explicit\n"
      ]
    },
    {
      "cell_type": "markdown",
      "source": [
        "# New section"
      ],
      "metadata": {
        "id": "ch1ntDxU9YCJ"
      }
    },
    {
      "cell_type": "code",
      "source": [
        "#@title Default title text\n",
        "kk=getStrikes(0.03, 0.0, \"CALL\", 30)\n",
        "print(kk)\n",
        "volsSABRCalls=[]\n",
        "\n",
        "volsSABRCalls=[SABR_BlackVol(0.03,strike,5.0,0.3,1.0,0.5,0.1) for strike in kk]\n",
        "\n",
        "\n",
        "print(volsSABRCalls)\n",
        "#for k in kk:\n",
        " # v=SABR_BlackVol(0.03,kK,5.0,0.3,1.0,0.5,0.1)\n",
        "  #print(v)\n"
      ],
      "metadata": {
        "colab": {
          "base_uri": "https://localhost:8080/"
        },
        "id": "Tne0f6fHUIoI",
        "outputId": "04aa4e83-4350-4b71-a934-65d8146fa31e"
      },
      "execution_count": 67,
      "outputs": [
        {
          "output_type": "stream",
          "name": "stdout",
          "text": [
            "[0.03, 0.039310344827586205, 0.04862068965517241, 0.057931034482758624, 0.06724137931034482, 0.07655172413793104, 0.08586206896551725, 0.09517241379310346, 0.10448275862068966, 0.11379310344827587, 0.12310344827586207, 0.13241379310344828, 0.1417241379310345, 0.1510344827586207, 0.1603448275862069, 0.1696551724137931, 0.17896551724137932, 0.18827586206896554, 0.19758620689655174, 0.20689655172413796, 0.21620689655172415, 0.22551724137931037, 0.23482758620689656, 0.24413793103448278, 0.253448275862069, 0.26275862068965516, 0.2720689655172414, 0.28137931034482766, 0.29068965517241385, 0.30000000000000004]\n",
            "[0.30000000000000004, 0.307146735159562, 0.3130753804353764, 0.3181329345740638, 0.32253935777170367, 0.32644157815657354, 0.3299422213953454, 0.33311565589606085, 0.3360174361455247, 0.3386901280421481, 0.3411670513336935, 0.34347476928023785, 0.3456347954806557, 0.34766479495774566, 0.3495794488612968, 0.35139108963010396, 0.35311017592892285, 0.3547456534653755, 0.3563052330435916, 0.3577956076117702, 0.359222623675083, 0.3605914181131313, 0.36190652844900517, 0.36317198251642746, 0.36439137197451443, 0.3655679130381948, 0.36670449700096963, 0.3678037325408316, 0.36886798136165266, 0.36989938839082154]\n"
          ]
        }
      ]
    },
    {
      "cell_type": "code",
      "source": [
        "def getConvexityAdjustedSwapRate(F,D,T,swapLengthinMonths,nCashSettledSwaptions,fixedlegfreqmonths, SABRparams):\n",
        "    \n",
        "    #Calls\n",
        "    wCalls, kCalls = calculateWeights(1,F,D,swapLengthinMonths,fixedlegfreqmonths,nCashSettledSwaptions)\n",
        "    wPuts, kPuts = calculateWeights(-1,F,D,swapLengthinMonths,fixedlegfreqmonths,nCashSettledSwaptions)\n",
        "\n",
        "\n",
        "    #define shifted SABR parameters\n",
        "    alpha = SABRparams[0]; beta = SABRparams[1]; rho = SABRparams[2]; nu = SABRparams[3]; shift = D\n",
        "    #model = SABRShifted(alpha, beta, rho, nu, D)\n",
        "\n",
        "    #volsSABRCalls = model.black_vol(F, np.array(kCalls),T)\n",
        "    #volsSABRPuts = model.black_vol(F, np.array(kPuts),T)\n",
        "\n",
        "    #use another SABR\n",
        "    volsSABRCalls=[]\n",
        "    volsSABRCalls.append(SABR_BlackVol(F+D,k+D,T,alpha, beta, rho, nu) for k in kCalls)\n",
        "    volsSABRPuts=[]\n",
        "    volsSABRPuts.append(SABR_BlackVol(F+D,k+D,T,alpha, beta, rho, nu) for k in kPuts)\n",
        "\n",
        "    "
      ],
      "metadata": {
        "id": "Qqf_dZrubm9P"
      },
      "execution_count": 51,
      "outputs": []
    },
    {
      "cell_type": "code",
      "source": [],
      "metadata": {
        "id": "mY--KhddzKpS"
      },
      "execution_count": null,
      "outputs": []
    }
  ],
  "metadata": {
    "kernelspec": {
      "display_name": "Python 3 (ipykernel)",
      "language": "python",
      "name": "python3"
    },
    "language_info": {
      "codemirror_mode": {
        "name": "ipython",
        "version": 3
      },
      "file_extension": ".py",
      "mimetype": "text/x-python",
      "name": "python",
      "nbconvert_exporter": "python",
      "pygments_lexer": "ipython3",
      "version": "3.9.12"
    },
    "vscode": {
      "interpreter": {
        "hash": "3ad933181bd8a04b432d3370b9dc3b0662ad032c4dfaa4e4f1596c548f763858"
      }
    },
    "colab": {
      "provenance": [],
      "include_colab_link": true
    }
  },
  "nbformat": 4,
  "nbformat_minor": 0
}