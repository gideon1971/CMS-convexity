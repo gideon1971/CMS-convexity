{
 "cells": [
  {
   "cell_type": "markdown",
   "metadata": {},
   "source": [
    "# Examine the sensitivity of CMS convexity calculations based on different initial parameter assumptions #\n",
    "\n",
    "<h4> acknowledgement to FinancePy for the displaced SABR volatility code https://github.com/domokane/FinancePy </h4>\n",
    "\n",
    "\n",
    "### Introduction ###\n",
    "\n",
    "Constant Maturity Swaps use the same framework as vanilla swaps, however, the tenor of the floating index is not in line with the tenor of the floating payments. \n",
    "\n",
    "For example, receiver EURIBOR swap will pay an amount at the end of a 6 month coupon per4iod (in arrears). The amount will be based on the EURIBOR 6 month fixing SET IN ADVANCE of a semi-annual floating payment coupon period. \\Similarly for OIS swqpw. the floating rate will use the daily compounded rat3s over trhe coupon period.\n",
    "\n",
    "The floating index used for CMS can be a swap rate of any tenor. \n",
    "Pay 20y swap rate\n",
    "\n",
    "10-year EUR CMS Swap Rate and the 20-year EUR\n",
    "CMS Swap Rate (displayed on the Reuters page \"ICESWAP2\").\n",
    "\n",
    "\n",
    "\n",
    "This would be the rate used to determinbe if a swaption exerfc ises withe a tenor   but the index that fixes is not a term rate or \n",
    "\n",
    "\n",
    "\n",
    "### Calculating the weights for for a portfolio of Cash Settled Swaptions to replicate a CMS rate\n",
    "\n",
    "### Setup\n",
    "-  Choose the number of swaptions for each Call & Put portfilio. e.g. use 30\n",
    "-  determine which strikes to use\n",
    "-  create functions to build the list of strikes & forwards\n",
    "-  crate a PVBP function\n",
    "\n"
   ]
  },
  {
   "cell_type": "code",
   "execution_count": 1,
   "metadata": {},
   "outputs": [
    {
     "name": "stdout",
     "output_type": "stream",
     "text": [
      "####################################################################\n",
      "# FINANCEPY BETA Version 0.260 - This build:  22 Nov 2022 at 13:42 #\n",
      "#      This software is distributed FREE & WITHOUT ANY WARRANTY    #\n",
      "#  Report bugs as issues at https://github.com/domokane/FinancePy  #\n",
      "####################################################################\n",
      "\n"
     ]
    }
   ],
   "source": [
    "import numpy as np\n",
    "import pandas as pd\n",
    "import scipy.stats as si\n",
    "import matplotlib.pyplot as plt\n",
    "\n",
    "from financepy.utils import *\n",
    "from financepy.models.sabr_shifted import *"
   ]
  },
  {
   "cell_type": "code",
   "execution_count": 2,
   "metadata": {},
   "outputs": [],
   "source": [
    "def N(x):\n",
    "    Ndist = si.norm.cdf(x,0.0,1.0)\n",
    "    return Ndist"
   ]
  },
  {
   "cell_type": "code",
   "execution_count": 3,
   "metadata": {},
   "outputs": [],
   "source": [
    "\n",
    "def B76(ff,kk,tt,vol,ss,cp):# ff= forward, kk = strike, ss=displacement\n",
    "    \n",
    "    # create displaced forwards & srtikes\n",
    "    ff=ff+ss\n",
    "    kk=kk+ss\n",
    "\n",
    "    d1=(np.log(ff/kk) + 0.5* tt * vol**2)/(vol * (tt**0.5))\n",
    "    d2=(np.log(ff/kk) - 0.5* tt * vol**2)/(vol * (tt**0.5))\n",
    "\n",
    "    c=ff*N(d1)-kk*N(d2)\n",
    "    p=kk*N(-d2)-ff*N(-d1)\n",
    "\n",
    "    if cp==1:\n",
    "        retval=c\n",
    "    else:\n",
    "        retval=p\n",
    "\n",
    "    return retval"
   ]
  },
  {
   "cell_type": "code",
   "execution_count": 4,
   "metadata": {},
   "outputs": [],
   "source": [
    "def getStrikes(anchorStrike, displacement=0, CallPut = \"CALL\", nCashSettledSwaptions=30):\n",
    "\n",
    "    if CallPut == \"CALL\":\n",
    "        finalStrike = 10 * (anchorStrike + displacement)\n",
    "    else:\n",
    "        finalStrike = -displacement + 0.000001\n",
    "\n",
    "    increment = (finalStrike-anchorStrike)/(nCashSettledSwaptions-1)\n",
    "    cashSettledSwaptionStrikes = [anchorStrike + i * increment for i in range(nCashSettledSwaptions)]\n",
    "            \n",
    "    return cashSettledSwaptionStrikes"
   ]
  },
  {
   "cell_type": "code",
   "execution_count": 5,
   "metadata": {},
   "outputs": [],
   "source": [
    "def getForwards(anchorStrike, displacement=0, CallPut = \"CALL\", nCashSettledSwaptions=30):\n",
    "    \n",
    "    K=getStrikes(anchorStrike, displacement, CallPut, nCashSettledSwaptions)\n",
    "    \n",
    "    increment=K[1]-K[0]\n",
    "\n",
    "    cashSettledSwaptionForwards =[K[i] + increment/2  for i in range(nCashSettledSwaptions)]\n",
    "            \n",
    "    return cashSettledSwaptionForwards"
   ]
  },
  {
   "cell_type": "code",
   "execution_count": 6,
   "metadata": {},
   "outputs": [],
   "source": [
    "def PVBP(swapParRate,swapTenorInMonths,swapFixedLegPaymentTenorInMonths):\n",
    "    #calculate the cash settled swaption annuity at exercise\n",
    "\n",
    "    factor=swapFixedLegPaymentTenorInMonths/12\n",
    "    nPaymemnts=int(swapTenorInMonths/swapFixedLegPaymentTenorInMonths)\n",
    "    df = 1/(1 + swapParRate*factor)\n",
    "            \n",
    "    s=0.0\n",
    "    p=1.0\n",
    "    for i in range(nPaymemnts):\n",
    "        p*=df\n",
    "        s+=p\n",
    "                \n",
    "    return s * factor"
   ]
  },
  {
   "cell_type": "code",
   "execution_count": 7,
   "metadata": {},
   "outputs": [],
   "source": [
    "def largest(a,b):\n",
    "    if a>b:\n",
    "        r=a\n",
    "    else:\n",
    "        r=b\n",
    "    return r"
   ]
  },
  {
   "cell_type": "code",
   "execution_count": 8,
   "metadata": {},
   "outputs": [],
   "source": [
    "#The weights can be calculated recursively by calculating theterninal payoff\n",
    "\n",
    "def calculateWeights(callputN,anchorStrike,displacement,swapTenorinMonths,swapFixedLegMonths,nCashSettledSwaptions=30):\n",
    "    \n",
    "    \n",
    "    CSSweights=[] # create the empty list to hold the weights\n",
    "    swapTenor=swapTenorinMonths\n",
    "\n",
    "    if callputN==1:\n",
    "        CallPut=\"CALL\"\n",
    "    else:\n",
    "        CallPut=\"PUT\"\n",
    "    \n",
    "    \n",
    "    Strikes=getStrikes(anchorStrike, displacement, CallPut, nCashSettledSwaptions)\n",
    "    Forwards=getForwards(anchorStrike, displacement, CallPut, nCashSettledSwaptions)\n",
    "\n",
    "    # the target rate is the CMS rate at each forward rate\n",
    "    Targets=[Forwards[i]-anchorStrike for i in range(nCashSettledSwaptions)] \n",
    "\n",
    "\n",
    "    for i in range(nCashSettledSwaptions):\n",
    "        #find weight\n",
    "\n",
    "        currentFwd=Forwards[i]\n",
    "        currentPVBP=PVBP(currentFwd,swapTenor,swapFixedLegMonths)\n",
    "\n",
    "        nFixedStrikes=len(CSSweights) # loopp through the strikes that have already had their weight set\n",
    "        #print(nFixedStrikes)\n",
    "        prevPV=0\n",
    "\n",
    "        if nFixedStrikes>0: # use this once we have calculated the first swaption weight\n",
    "             for w in range(nFixedStrikes):\n",
    "                prevPV=prevPV + largest(callputN*(currentFwd-Strikes[w]),0) * currentPVBP * CSSweights[w]\n",
    "            \n",
    "        else:\n",
    "            prevPV=0\n",
    "           \n",
    "        requiredPV=Targets[i]-prevPV\n",
    "        currentWeight= requiredPV / (largest(callputN*(currentFwd-Strikes[i]),0)*currentPVBP)\n",
    "        CSSweights.append(currentWeight)\n",
    "\n",
    "    return CSSweights,Strikes"
   ]
  },
  {
   "cell_type": "code",
   "execution_count": null,
   "metadata": {},
   "outputs": [],
   "source": []
  },
  {
   "cell_type": "code",
   "execution_count": 9,
   "metadata": {},
   "outputs": [],
   "source": [
    "def getConvexityAdjustedSwapRate(unadjF,D,T,swapLengthinMonths,nCashSettledSwaptions,fixedlegfreqmonths, SABRparams):\n",
    "    \n",
    "    #Calls\n",
    "    wCalls, kCalls = calculateWeights(1,F,D,swapLengthinMonths,fixedlegfreqmonths,nCashSettledSwaptions)\n",
    "    wPuts, kPuts = calculateWeights(-1,F,D,swapLengthinMonths,fixedlegfreqmonths,nCashSettledSwaptions)\n",
    "\n",
    "\n",
    "    #define shifted SABR parameters\n",
    "    alpha = SABRparams[0]; beta = SABRparams[1]; rho = SABRparams[2]; nu = SABRparams[3]; shift = D\n",
    "    model = SABRShifted(alpha, beta, rho, nu, D)\n",
    "\n",
    "    volsSABRCalls = model.black_vol(F, np.array(kCalls),T)\n",
    "    volsSABRPuts = model.black_vol(F, np.array(kPuts),T)\n",
    "\n",
    "    #dcefine the annuity of the swap\n",
    "    ann=PVBP(F,swapLengthinMonths,6)\n",
    "    \n",
    "    PVportfolioPuts=0\n",
    "    PVportfolioCalls=0\n",
    "\n",
    "    for s in range(nCashSettledSwaptions):\n",
    "        kk=kCalls[s]\n",
    "        w=wCalls[s]\n",
    "        v=volsSABRCalls[s]\n",
    "\n",
    "        PVportfolioCalls+=w*ann*B76(F,kk,T,v,D,1)\n",
    "\n",
    "    for s in range (nCashSettledSwaptions):\n",
    "        kk=kPuts[s]\n",
    "        w=wPuts[s]\n",
    "        v=volsSABRPuts[s]\n",
    "\n",
    "        PVportfolioPuts+=w*ann*B76(F,kk,T,v,D,-1)\n",
    "        \n",
    "\n",
    "        return PVportfolioCalls+PVportfolioPuts"
   ]
  },
  {
   "cell_type": "code",
   "execution_count": null,
   "metadata": {},
   "outputs": [],
   "source": [
    "  "
   ]
  },
  {
   "cell_type": "code",
   "execution_count": 10,
   "metadata": {},
   "outputs": [],
   "source": [
    "F=0.03\n",
    "D=0.0\n",
    "T=2.0\n",
    "swapLengthinMonths=240\n",
    "nCashSettledSwaptions=30\n",
    "pp=[0.102,1.0,0.5, 0.1]\n",
    "zzz=getConvexityAdjustedSwapRate(F,D,T,240,30, 6 , pp)"
   ]
  },
  {
   "cell_type": "code",
   "execution_count": 11,
   "metadata": {},
   "outputs": [
    {
     "name": "stdout",
     "output_type": "stream",
     "text": [
      "0.00010641589774233002\n"
     ]
    }
   ],
   "source": [
    "print(zzz)"
   ]
  },
  {
   "cell_type": "code",
   "execution_count": null,
   "metadata": {},
   "outputs": [],
   "source": []
  }
 ],
 "metadata": {
  "kernelspec": {
   "display_name": "Python 3 (ipykernel)",
   "language": "python",
   "name": "python3"
  },
  "language_info": {
   "codemirror_mode": {
    "name": "ipython",
    "version": 3
   },
   "file_extension": ".py",
   "mimetype": "text/x-python",
   "name": "python",
   "nbconvert_exporter": "python",
   "pygments_lexer": "ipython3",
   "version": "3.9.12"
  },
  "vscode": {
   "interpreter": {
    "hash": "3ad933181bd8a04b432d3370b9dc3b0662ad032c4dfaa4e4f1596c548f763858"
   }
  }
 },
 "nbformat": 4,
 "nbformat_minor": 2
}
